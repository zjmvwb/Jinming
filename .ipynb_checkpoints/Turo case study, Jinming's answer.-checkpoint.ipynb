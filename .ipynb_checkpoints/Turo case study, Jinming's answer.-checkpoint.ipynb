{
 "cells": [
  {
   "cell_type": "code",
   "execution_count": 1,
   "metadata": {},
   "outputs": [
    {
     "data": {
      "text/html": [
       "<div>\n",
       "<style>\n",
       "    .dataframe thead tr:only-child th {\n",
       "        text-align: right;\n",
       "    }\n",
       "\n",
       "    .dataframe thead th {\n",
       "        text-align: left;\n",
       "    }\n",
       "\n",
       "    .dataframe tbody tr th {\n",
       "        vertical-align: top;\n",
       "    }\n",
       "</style>\n",
       "<table border=\"1\" class=\"dataframe\">\n",
       "  <thead>\n",
       "    <tr style=\"text-align: right;\">\n",
       "      <th></th>\n",
       "      <th>vehicle_id</th>\n",
       "      <th>date</th>\n",
       "      <th>is_booked</th>\n",
       "      <th>tmv</th>\n",
       "      <th>category_grouped</th>\n",
       "      <th>demand_supply_ratio</th>\n",
       "      <th>price</th>\n",
       "    </tr>\n",
       "  </thead>\n",
       "  <tbody>\n",
       "    <tr>\n",
       "      <th>0</th>\n",
       "      <td>333483</td>\n",
       "      <td>2018-05-25</td>\n",
       "      <td>0</td>\n",
       "      <td>14569</td>\n",
       "      <td>midsize</td>\n",
       "      <td>1.902318</td>\n",
       "      <td>30.0</td>\n",
       "    </tr>\n",
       "    <tr>\n",
       "      <th>1</th>\n",
       "      <td>304273</td>\n",
       "      <td>2018-05-12</td>\n",
       "      <td>1</td>\n",
       "      <td>4201</td>\n",
       "      <td>compact</td>\n",
       "      <td>14.622831</td>\n",
       "      <td>39.0</td>\n",
       "    </tr>\n",
       "    <tr>\n",
       "      <th>2</th>\n",
       "      <td>298081</td>\n",
       "      <td>2018-04-07</td>\n",
       "      <td>1</td>\n",
       "      <td>5724</td>\n",
       "      <td>midsize</td>\n",
       "      <td>8.659708</td>\n",
       "      <td>24.0</td>\n",
       "    </tr>\n",
       "    <tr>\n",
       "      <th>3</th>\n",
       "      <td>406331</td>\n",
       "      <td>2018-12-31</td>\n",
       "      <td>1</td>\n",
       "      <td>39102</td>\n",
       "      <td>suv</td>\n",
       "      <td>13.570390</td>\n",
       "      <td>121.0</td>\n",
       "    </tr>\n",
       "    <tr>\n",
       "      <th>4</th>\n",
       "      <td>456223</td>\n",
       "      <td>2018-08-09</td>\n",
       "      <td>0</td>\n",
       "      <td>9666</td>\n",
       "      <td>midsize</td>\n",
       "      <td>1.297453</td>\n",
       "      <td>42.0</td>\n",
       "    </tr>\n",
       "  </tbody>\n",
       "</table>\n",
       "</div>"
      ],
      "text/plain": [
       "   vehicle_id        date  is_booked    tmv category_grouped  \\\n",
       "0      333483  2018-05-25          0  14569          midsize   \n",
       "1      304273  2018-05-12          1   4201          compact   \n",
       "2      298081  2018-04-07          1   5724          midsize   \n",
       "3      406331  2018-12-31          1  39102              suv   \n",
       "4      456223  2018-08-09          0   9666          midsize   \n",
       "\n",
       "   demand_supply_ratio  price  \n",
       "0             1.902318   30.0  \n",
       "1            14.622831   39.0  \n",
       "2             8.659708   24.0  \n",
       "3            13.570390  121.0  \n",
       "4             1.297453   42.0  "
      ]
     },
     "execution_count": 1,
     "metadata": {},
     "output_type": "execute_result"
    }
   ],
   "source": [
    "#loading packages and read data\n",
    "import pandas as pd\n",
    "import numpy as np\n",
    "from scipy import stats\n",
    "from sklearn.linear_model import LinearRegression\n",
    "from sklearn.metrics import mean_squared_error\n",
    "turo_data = pd.read_csv(\"C:/works/work/looking for jobs/turo/vehicles_booking_history.csv\")\n",
    "turo_data.head()\n"
   ]
  },
  {
   "cell_type": "code",
   "execution_count": 10,
   "metadata": {},
   "outputs": [
    {
     "name": "stdout",
     "output_type": "stream",
     "text": [
      "Ttest_indResult(statistic=-5.343897720652639, pvalue=1.0198552774383822e-07)\n"
     ]
    }
   ],
   "source": [
    "#doing some t-test to see whether is_book is affected by price\n",
    "not_booked_price = turo_data['price'][turo_data['is_booked']==1] \n",
    "booked_price = turo_data['price'][turo_data['is_booked']==0] \n",
    "\n",
    "print (stats.ttest_ind(not_booked_price, booked_price))"
   ]
  },
  {
   "cell_type": "code",
   "execution_count": 60,
   "metadata": {
    "collapsed": true
   },
   "outputs": [],
   "source": [
    "#for each vehicle, train a model by linear regression, return a dictionary, whose key is vehicle id, value is linear model coefficient and minimum price\n",
    "def get_linear_coef(data):\n",
    "    coef_dic = {}\n",
    "    grouped = data.groupby('vehicle_id')\n",
    "    for this_id,group in grouped:\n",
    "        #we only use the booked data\n",
    "        booked_data = group[group['is_booked']==1]\n",
    "        #if we do not have sufficient booked data, we have to use all data\n",
    "        if len(booked_data)<=5:\n",
    "            used_data = group\n",
    "        else:\n",
    "            used_data = booked_data\n",
    "        y = np.asarray(used_data['price'])\n",
    "        X = np.asarray(used_data['demand_supply_ratio'])\n",
    "        #reshape so sklearn package can recognize it\n",
    "        X =  X.reshape((len(X), 1))\n",
    "        #then we build the linear regression model\n",
    "        reg = LinearRegression().fit(X, y)\n",
    "        min_price = min(y)\n",
    "        coef_dic[this_id] = [reg.coef_[0],reg.intercept_,min_price]\n",
    "    return coef_dic\n",
    "    \n"
   ]
  },
  {
   "cell_type": "code",
   "execution_count": 61,
   "metadata": {
    "collapsed": true
   },
   "outputs": [],
   "source": [
    "#then we feed data with values\n",
    "def suggest_price(vehicle_ID,demand_supply_ratio):\n",
    "    #we use the booked data to build the regression model, if we do not have booked data, we have to use all the data\n",
    "    this_coef = coef_dict[vehicle_ID]\n",
    "    predict_value = this_coef[0]*demand_supply_ratio + this_coef[1]\n",
    "    #if the predict value is very low, we return the min price\n",
    "    if predict_value<0:\n",
    "        return this_coef[2]\n",
    "    else:\n",
    "        return predict_value\n",
    "        "
   ]
  },
  {
   "cell_type": "code",
   "execution_count": 64,
   "metadata": {},
   "outputs": [
    {
     "name": "stdout",
     "output_type": "stream",
     "text": [
      "23.4841400483\n"
     ]
    }
   ],
   "source": [
    "#some test to see whether it works\n",
    "if __name__ == \"__main__\":\n",
    "    coef_dict = get_linear_coef(turo_data)\n",
    "    print (suggest_price(333483,2))\n",
    "    "
   ]
  },
  {
   "cell_type": "code",
   "execution_count": null,
   "metadata": {
    "collapsed": true
   },
   "outputs": [],
   "source": [
    "#the testing criterion\n",
    "#let me add something for test\n"
   ]
  }
 ],
 "metadata": {
  "kernelspec": {
   "display_name": "Python 3",
   "language": "python",
   "name": "python3"
  },
  "language_info": {
   "codemirror_mode": {
    "name": "ipython",
    "version": 3
   },
   "file_extension": ".py",
   "mimetype": "text/x-python",
   "name": "python",
   "nbconvert_exporter": "python",
   "pygments_lexer": "ipython3",
   "version": "3.6.5"
  }
 },
 "nbformat": 4,
 "nbformat_minor": 2
}
