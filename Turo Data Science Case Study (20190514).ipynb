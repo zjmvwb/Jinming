{
 "cells": [
  {
   "cell_type": "markdown",
   "metadata": {},
   "source": [
    "# Turo Data Science Case Study"
   ]
  },
  {
   "cell_type": "markdown",
   "metadata": {},
   "source": [
    "When listing a car, a host has the opportunity to set its daily price. In this process, Turo recommends a price (which the host may accept or ignore) that is designed to optimize the host’s revenue, given various properties of the listing.\n",
    "\n",
    "1. Based on the data found in `vehicles_booking_history.csv`, produce a well-written function that accepts properties of a listing and returns a daily price that is designed to improve/optimize revenue. Here is a dictionary for the data in the .csv:\n",
    " * `vehicle_id` - vehicle's unique ID\n",
    " * `date` - calendar date\n",
    " * `is_booked` - 1 if the listing is booked\n",
    " * `tmv` - true market value of vehicle\n",
    " * `category_aggregate` - vehicle category group\n",
    " * `demand_supply_ratio` - daily demand (web and app sessions) over supply (count of live listings in the local market, e.g. a city)\n",
    " * `price` - vehicle's listed price as of the given date\n",
    "\n",
    "2. Assuming your function is deployed in production, describe metrics and methods to gauge the success of your recomendations. \n",
    "\n",
    "We’re looking for a compelling process of analysis/modeling, organized and intuitive production-level code (for the function itself, as though it were part of a REST API implementation), and thoughtful consideration of measuring business impact.\n",
    "\n",
    "Feel free to reach out with any questions!"
   ]
  },
  {
   "cell_type": "markdown",
   "metadata": {},
   "source": [
    "## Analysis, Modeling, Math, etc."
   ]
  },
  {
   "cell_type": "markdown",
   "metadata": {},
   "source": [
    "(Import the data and do analysis/modeling/math or whatever, starting here.)"
   ]
  },
  {
   "cell_type": "markdown",
   "metadata": {},
   "source": [
    "## Recommendation function"
   ]
  },
  {
   "cell_type": "markdown",
   "metadata": {},
   "source": [
    "(Write a function that takes the properties of the listing and returns a price here.)"
   ]
  },
  {
   "cell_type": "markdown",
   "metadata": {},
   "source": [
    "## Measuring business impact"
   ]
  },
  {
   "cell_type": "markdown",
   "metadata": {},
   "source": [
    "(Tell us how you'd gauge the success/business impact of the suggested price.)"
   ]
  }
 ],
 "metadata": {
  "kernelspec": {
   "display_name": "Python 3",
   "language": "python",
   "name": "python3"
  },
  "language_info": {
   "codemirror_mode": {
    "name": "ipython",
    "version": 3
   },
   "file_extension": ".py",
   "mimetype": "text/x-python",
   "name": "python",
   "nbconvert_exporter": "python",
   "pygments_lexer": "ipython3",
   "version": "3.6.5"
  }
 },
 "nbformat": 4,
 "nbformat_minor": 2
}
